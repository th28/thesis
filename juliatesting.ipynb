{
 "cells": [
  {
   "cell_type": "code",
   "execution_count": 18,
   "metadata": {},
   "outputs": [
    {
     "name": "stdout",
     "output_type": "stream",
     "text": [
      "\u001b[1m4×2 DataFrame\u001b[0m\n",
      "\u001b[1m Row \u001b[0m│\u001b[1m CONTRACT \u001b[0m\u001b[1m PERCENTAGE \u001b[0m\n",
      "\u001b[1m     \u001b[0m│\u001b[90m String   \u001b[0m\u001b[90m Float64    \u001b[0m\n",
      "─────┼──────────────────────\n",
      "   1 │ BULK         28.5714\n",
      "   2 │ DACA         46.4286\n",
      "   3 │ FD           10.7143\n",
      "   4 │ FIXED        14.2857\u001b[1m1×6 DataFrame\u001b[0m\n",
      "\u001b[1m Row \u001b[0m│\u001b[1m Instance \u001b[0m\u001b[1m Obj. value \u001b[0m\u001b[1m BULK    \u001b[0m\u001b[1m DACA    \u001b[0m\u001b[1m FD      \u001b[0m\u001b[1m FIXED   \u001b[0m\n",
      "\u001b[1m     \u001b[0m│\u001b[90m Any      \u001b[0m\u001b[90m Any        \u001b[0m\u001b[90m Any     \u001b[0m\u001b[90m Any     \u001b[0m\u001b[90m Any     \u001b[0m\u001b[90m Any     \u001b[0m\n",
      "─────┼──────────────────────────────────────────────────────────\n",
      "   1 │ 1         1234.1      28.5714  46.4286  10.7143  14.2857"
     ]
    }
   ],
   "source": [
    "\n",
    "using DataFrames\n",
    "\n",
    "# Create a sample DataFrame\n",
    "df = DataFrame(\n",
    "    \"CONTRACT\" => [\"DACA\", \"BULK\", \"FD\", \"FIXED\", \"DACA\", \"BULK\", \"DACA\"],\n",
    "    \"METRIC\" => [10, 20, 30, 40, 50, 60, 70]\n",
    ")\n",
    "\n",
    "# Group by CONTRACT and calculate the percentage of METRIC\n",
    "result = combine(groupby(df, :CONTRACT), :METRIC => (col -> sum(col) / sum(df.\"METRIC\") * 100) => :PERCENTAGE)\n",
    "sort!(result, :CONTRACT)\n",
    "print(result)\n",
    "\n",
    "columnnames = [\"Instance\", \"Obj. value\", \"BULK\",\"DACA\",\"FD\",\"FIXED\"]\n",
    "test = DataFrame([name => [] for name in columnnames])\n",
    "testrow = (1, 1234.1, pcts...)\n",
    "push!(test, testrow)\n",
    "\n",
    "print(test)"
   ]
  },
  {
   "cell_type": "code",
   "execution_count": null,
   "metadata": {},
   "outputs": [],
   "source": []
  }
 ],
 "metadata": {
  "kernelspec": {
   "display_name": "Julia 1.7.2",
   "language": "julia",
   "name": "julia-1.7"
  },
  "language_info": {
   "file_extension": ".jl",
   "mimetype": "application/julia",
   "name": "julia",
   "version": "1.7.2"
  },
  "orig_nbformat": 4
 },
 "nbformat": 4,
 "nbformat_minor": 2
}
