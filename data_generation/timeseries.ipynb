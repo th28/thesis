{
 "cells": [
  {
   "cell_type": "code",
   "execution_count": 141,
   "metadata": {},
   "outputs": [],
   "source": [
    "import pandas as pd\n",
    "import numpy as np\n",
    "from arch.bootstrap import MovingBlockBootstrap"
   ]
  },
  {
   "cell_type": "code",
   "execution_count": 142,
   "metadata": {},
   "outputs": [],
   "source": [
    "pulp_prices = pd.read_excel(\"pulp_prices.xls\")\n",
    "pulp_prices[\"date\"] = pd.to_datetime(pulp_prices[\"date\"])\n",
    "pulp_prices.index = pulp_prices[\"date\"]\n",
    "pulp_prices = pulp_prices.drop(columns=[\"date\"])\n",
    "pulp_prices\n",
    "pulp_prices.plot()"
   ]
  },
  {
   "cell_type": "code",
   "execution_count": 160,
   "metadata": {},
   "outputs": [],
   "source": [
    "bs = MovingBlockBootstrap(3, pulp_prices)"
   ]
  },
  {
   "cell_type": "code",
   "execution_count": 165,
   "metadata": {},
   "outputs": [],
   "source": [
    "for data in bs.bootstrap(100):\n",
    "    model_data = data[0][0]\n",
    "    model_data.index = pulp_prices.index\n",
    "    sample = model_data[(model_data.index >= '2021-01-01') & (model_data.index <= '2021-12-01') ]\n",
    "    "
   ]
  }
 ],
 "metadata": {
  "kernelspec": {
   "display_name": "Python 3.10.7 64-bit",
   "language": "python",
   "name": "python3"
  },
  "language_info": {
   "codemirror_mode": {
    "name": "ipython",
    "version": 3
   },
   "file_extension": ".py",
   "mimetype": "text/x-python",
   "name": "python",
   "nbconvert_exporter": "python",
   "pygments_lexer": "ipython3",
   "version": "3.10.7"
  },
  "orig_nbformat": 4,
  "vscode": {
   "interpreter": {
    "hash": "e7370f93d1d0cde622a1f8e1c04877d8463912d04d973331ad4851f04de6915a"
   }
  }
 },
 "nbformat": 4,
 "nbformat_minor": 2
}
